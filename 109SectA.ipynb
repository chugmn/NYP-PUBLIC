{
  "nbformat": 4,
  "nbformat_minor": 0,
  "metadata": {
    "colab": {
      "provenance": [],
      "authorship_tag": "ABX9TyPyfeRwL+2erd1AZ1GrqupP",
      "include_colab_link": true
    },
    "kernelspec": {
      "name": "python3",
      "display_name": "Python 3"
    },
    "language_info": {
      "name": "python"
    }
  },
  "cells": [
    {
      "cell_type": "markdown",
      "metadata": {
        "id": "view-in-github",
        "colab_type": "text"
      },
      "source": [
        "<a href=\"https://colab.research.google.com/github/chugmn/NYP-PUBLIC/blob/main/109SectA.ipynb\" target=\"_parent\"><img src=\"https://colab.research.google.com/assets/colab-badge.svg\" alt=\"Open In Colab\"/></a>"
      ]
    },
    {
      "cell_type": "code",
      "execution_count": null,
      "metadata": {
        "colab": {
          "base_uri": "https://localhost:8080/"
        },
        "id": "U_p4WGSCV1O1",
        "outputId": "0cd5b6aa-9c43-451f-b70f-c419369ccb99",
        "collapsed": true
      },
      "outputs": [
        {
          "output_type": "stream",
          "name": "stdout",
          "text": [
            "Collecting azure-cognitiveservices-vision-customvision\n",
            "  Downloading azure_cognitiveservices_vision_customvision-3.1.1-py2.py3-none-any.whl.metadata (8.5 kB)\n",
            "Collecting msrest>=0.6.21 (from azure-cognitiveservices-vision-customvision)\n",
            "  Downloading msrest-0.7.1-py3-none-any.whl.metadata (21 kB)\n",
            "Collecting azure-common~=1.1 (from azure-cognitiveservices-vision-customvision)\n",
            "  Downloading azure_common-1.1.28-py2.py3-none-any.whl.metadata (5.0 kB)\n",
            "Collecting azure-mgmt-core<2.0.0,>=1.2.0 (from azure-cognitiveservices-vision-customvision)\n",
            "  Downloading azure_mgmt_core-1.5.0-py3-none-any.whl.metadata (4.3 kB)\n",
            "Collecting azure-core>=1.31.0 (from azure-mgmt-core<2.0.0,>=1.2.0->azure-cognitiveservices-vision-customvision)\n",
            "  Downloading azure_core-1.32.0-py3-none-any.whl.metadata (39 kB)\n",
            "Requirement already satisfied: certifi>=2017.4.17 in /usr/local/lib/python3.10/dist-packages (from msrest>=0.6.21->azure-cognitiveservices-vision-customvision) (2024.12.14)\n",
            "Collecting isodate>=0.6.0 (from msrest>=0.6.21->azure-cognitiveservices-vision-customvision)\n",
            "  Downloading isodate-0.7.2-py3-none-any.whl.metadata (11 kB)\n",
            "Requirement already satisfied: requests-oauthlib>=0.5.0 in /usr/local/lib/python3.10/dist-packages (from msrest>=0.6.21->azure-cognitiveservices-vision-customvision) (1.3.1)\n",
            "Requirement already satisfied: requests~=2.16 in /usr/local/lib/python3.10/dist-packages (from msrest>=0.6.21->azure-cognitiveservices-vision-customvision) (2.32.3)\n",
            "Requirement already satisfied: six>=1.11.0 in /usr/local/lib/python3.10/dist-packages (from azure-core>=1.31.0->azure-mgmt-core<2.0.0,>=1.2.0->azure-cognitiveservices-vision-customvision) (1.17.0)\n",
            "Requirement already satisfied: typing-extensions>=4.6.0 in /usr/local/lib/python3.10/dist-packages (from azure-core>=1.31.0->azure-mgmt-core<2.0.0,>=1.2.0->azure-cognitiveservices-vision-customvision) (4.12.2)\n",
            "Requirement already satisfied: charset-normalizer<4,>=2 in /usr/local/lib/python3.10/dist-packages (from requests~=2.16->msrest>=0.6.21->azure-cognitiveservices-vision-customvision) (3.4.0)\n",
            "Requirement already satisfied: idna<4,>=2.5 in /usr/local/lib/python3.10/dist-packages (from requests~=2.16->msrest>=0.6.21->azure-cognitiveservices-vision-customvision) (3.10)\n",
            "Requirement already satisfied: urllib3<3,>=1.21.1 in /usr/local/lib/python3.10/dist-packages (from requests~=2.16->msrest>=0.6.21->azure-cognitiveservices-vision-customvision) (2.2.3)\n",
            "Requirement already satisfied: oauthlib>=3.0.0 in /usr/local/lib/python3.10/dist-packages (from requests-oauthlib>=0.5.0->msrest>=0.6.21->azure-cognitiveservices-vision-customvision) (3.2.2)\n",
            "Downloading azure_cognitiveservices_vision_customvision-3.1.1-py2.py3-none-any.whl (63 kB)\n",
            "\u001b[2K   \u001b[90m━━━━━━━━━━━━━━━━━━━━━━━━━━━━━━━━━━━━━━━━\u001b[0m \u001b[32m63.0/63.0 kB\u001b[0m \u001b[31m4.5 MB/s\u001b[0m eta \u001b[36m0:00:00\u001b[0m\n",
            "\u001b[?25hDownloading azure_common-1.1.28-py2.py3-none-any.whl (14 kB)\n",
            "Downloading azure_mgmt_core-1.5.0-py3-none-any.whl (30 kB)\n",
            "Downloading msrest-0.7.1-py3-none-any.whl (85 kB)\n",
            "\u001b[2K   \u001b[90m━━━━━━━━━━━━━━━━━━━━━━━━━━━━━━━━━━━━━━━━\u001b[0m \u001b[32m85.4/85.4 kB\u001b[0m \u001b[31m5.6 MB/s\u001b[0m eta \u001b[36m0:00:00\u001b[0m\n",
            "\u001b[?25hDownloading azure_core-1.32.0-py3-none-any.whl (198 kB)\n",
            "\u001b[2K   \u001b[90m━━━━━━━━━━━━━━━━━━━━━━━━━━━━━━━━━━━━━━━━\u001b[0m \u001b[32m198.9/198.9 kB\u001b[0m \u001b[31m15.0 MB/s\u001b[0m eta \u001b[36m0:00:00\u001b[0m\n",
            "\u001b[?25hDownloading isodate-0.7.2-py3-none-any.whl (22 kB)\n",
            "Installing collected packages: azure-common, isodate, azure-core, msrest, azure-mgmt-core, azure-cognitiveservices-vision-customvision\n",
            "Successfully installed azure-cognitiveservices-vision-customvision-3.1.1 azure-common-1.1.28 azure-core-1.32.0 azure-mgmt-core-1.5.0 isodate-0.7.2 msrest-0.7.1\n"
          ]
        }
      ],
      "source": [
        "!pip install azure-cognitiveservices-vision-customvision"
      ]
    },
    {
      "cell_type": "code",
      "source": [],
      "metadata": {
        "id": "S1oOXpi2laJz"
      },
      "execution_count": null,
      "outputs": []
    },
    {
      "cell_type": "markdown",
      "source": [],
      "metadata": {
        "id": "geaov2sHWS0V"
      }
    },
    {
      "cell_type": "code",
      "source": [
        "!pip install python-dotenv"
      ],
      "metadata": {
        "colab": {
          "base_uri": "https://localhost:8080/"
        },
        "id": "bnyqTBE3YlyN",
        "outputId": "e3f9f076-44da-4877-89b1-31b4940c0eda"
      },
      "execution_count": null,
      "outputs": [
        {
          "output_type": "stream",
          "name": "stdout",
          "text": [
            "Collecting python-dotenv\n",
            "  Downloading python_dotenv-1.0.1-py3-none-any.whl.metadata (23 kB)\n",
            "Downloading python_dotenv-1.0.1-py3-none-any.whl (19 kB)\n",
            "Installing collected packages: python-dotenv\n",
            "Successfully installed python-dotenv-1.0.1\n"
          ]
        }
      ]
    },
    {
      "cell_type": "code",
      "source": [
        "from azure.cognitiveservices.vision.customvision.training import CustomVisionTrainingClient\n",
        "from azure.cognitiveservices.vision.customvision.training.models import ImageFileCreateBatch, ImageFileCreateEntry, Region\n",
        "from msrest.authentication import ApiKeyCredentials\n",
        "import time\n",
        "import os\n",
        "\n",
        "def main():\n",
        "    from dotenv import load_dotenv\n",
        "    global training_client\n",
        "    global custom_vision_project\n",
        "\n",
        "    try:\n",
        "        # Get Configuration Settings\n",
        "        load_dotenv()\n",
        "        training_endpoint = os.getenv('TrainingEndpoint')\n",
        "        training_key = os.getenv('TrainingKey')\n",
        "        project_id = os.getenv('ProjectID')\n",
        "\n",
        "        # Authenticate a client for the training API\n",
        "        credentials = ApiKeyCredentials(in_headers={\"Training-key\": training_key})\n",
        "        training_client = CustomVisionTrainingClient(training_endpoint, credentials)\n",
        "\n",
        "        # Get the Custom Vision project\n",
        "        custom_vision_project = training_client.get_project(project_id)\n",
        "\n",
        "        # Upload and tag images\n",
        "        Upload_Images('more-training-images')\n",
        "\n",
        "        # Train the model\n",
        "        Train_Model()\n",
        "\n",
        "    except Exception as ex:\n",
        "        print(ex)\n",
        "\n",
        "def Upload_Images(folder):\n",
        "    print(\"Uploading images...\")\n",
        "    tags = training_client.get_tags(custom_vision_project.id)\n",
        "    for tag in tags:\n",
        "        print(tag.name)\n",
        "        for image in os.listdir(os.path.join(folder,tag.name)):\n",
        "            image_data = open(os.path.join(folder,tag.name,image), \"rb\").read()\n",
        "            training_client.create_images_from_data(custom_vision_project.id, image_data, [tag.id])\n",
        "\n",
        "def Train_Model():\n",
        "    print(\"Training ...\")\n",
        "    iteration = training_client.train_project(custom_vision_project.id)\n",
        "    while (iteration.status != \"Completed\"):\n",
        "        iteration = training_client.get_iteration(custom_vision_project.id, iteration.id)\n",
        "        print (iteration.status, '...')\n",
        "        time.sleep(5)\n",
        "    print (\"Model trained!\")\n",
        "\n",
        "\n",
        "if __name__ == \"__main__\":\n",
        "    main()\n"
      ],
      "metadata": {
        "colab": {
          "base_uri": "https://localhost:8080/"
        },
        "id": "r-lLMqL7V_sn",
        "outputId": "fde46e5b-9f35-4ee6-b354-f435191c9ed9"
      },
      "execution_count": null,
      "outputs": [
        {
          "output_type": "stream",
          "name": "stdout",
          "text": [
            "Parameter 'endpoint' must not be None.\n"
          ]
        }
      ]
    },
    {
      "cell_type": "code",
      "source": [],
      "metadata": {
        "id": "PoLv8ebKlVwD"
      },
      "execution_count": null,
      "outputs": []
    },
    {
      "cell_type": "code",
      "source": [],
      "metadata": {
        "id": "aMV-0xkDqR5k"
      },
      "execution_count": null,
      "outputs": []
    },
    {
      "cell_type": "code",
      "source": [
        "from google.colab import drive\n",
        "drive.mount('/content/drive')"
      ],
      "metadata": {
        "id": "udX0clOv1T2w"
      },
      "execution_count": null,
      "outputs": []
    },
    {
      "cell_type": "markdown",
      "source": [],
      "metadata": {
        "id": "Qk6Rttdl1cab"
      }
    },
    {
      "cell_type": "code",
      "source": [],
      "metadata": {
        "id": "0uWwwLq3XOY1"
      },
      "execution_count": null,
      "outputs": []
    },
    {
      "cell_type": "markdown",
      "source": [],
      "metadata": {
        "id": "qcmKcuPqW-E4"
      }
    }
  ]
}